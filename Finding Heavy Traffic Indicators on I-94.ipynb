{
 "cells": [
  {
   "cell_type": "markdown",
   "id": "bfa88282",
   "metadata": {},
   "source": [
    "![Image](https://encrypted-tbn0.gstatic.com/images?q=tbn:ANd9GcRMuzewPROs_ZP6TcwHgiwqHgHnuwrMkwVItA&usqp=CAU)\n",
    "# Finding Heavy Traffic Indicators on I-94\n",
    "Analysis of a [dataset](https://archive.ics.uci.edu/ml/datasets/Metro+Interstate+Traffic+Volume) about westbound traffic on the [I-94 Interstate highway](https://en.wikipedia.org/wiki/Interstate_94). Record of the traffic data conducted by station located between Minneapolis and Saint Paul (only westbound traffic - cars moving from east to west).\n",
    "\n",
    "The main goal of the project is to determine indicators of heavy traffic such as:\n",
    "***\n",
    "- weather type;\n",
    "- time of the day/week;\n",
    "- etc."
   ]
  },
  {
   "cell_type": "code",
   "execution_count": 1,
   "id": "9a14df3a",
   "metadata": {},
   "outputs": [
    {
     "data": {
      "text/html": [
       "<div>\n",
       "<style scoped>\n",
       "    .dataframe tbody tr th:only-of-type {\n",
       "        vertical-align: middle;\n",
       "    }\n",
       "\n",
       "    .dataframe tbody tr th {\n",
       "        vertical-align: top;\n",
       "    }\n",
       "\n",
       "    .dataframe thead th {\n",
       "        text-align: right;\n",
       "    }\n",
       "</style>\n",
       "<table border=\"1\" class=\"dataframe\">\n",
       "  <thead>\n",
       "    <tr style=\"text-align: right;\">\n",
       "      <th></th>\n",
       "      <th>holiday</th>\n",
       "      <th>temp</th>\n",
       "      <th>rain_1h</th>\n",
       "      <th>snow_1h</th>\n",
       "      <th>clouds_all</th>\n",
       "      <th>weather_main</th>\n",
       "      <th>weather_description</th>\n",
       "      <th>date_time</th>\n",
       "      <th>traffic_volume</th>\n",
       "    </tr>\n",
       "  </thead>\n",
       "  <tbody>\n",
       "    <tr>\n",
       "      <th>0</th>\n",
       "      <td>None</td>\n",
       "      <td>288.28</td>\n",
       "      <td>0.0</td>\n",
       "      <td>0.0</td>\n",
       "      <td>40</td>\n",
       "      <td>Clouds</td>\n",
       "      <td>scattered clouds</td>\n",
       "      <td>2012-10-02 09:00:00</td>\n",
       "      <td>5545</td>\n",
       "    </tr>\n",
       "    <tr>\n",
       "      <th>1</th>\n",
       "      <td>None</td>\n",
       "      <td>289.36</td>\n",
       "      <td>0.0</td>\n",
       "      <td>0.0</td>\n",
       "      <td>75</td>\n",
       "      <td>Clouds</td>\n",
       "      <td>broken clouds</td>\n",
       "      <td>2012-10-02 10:00:00</td>\n",
       "      <td>4516</td>\n",
       "    </tr>\n",
       "    <tr>\n",
       "      <th>2</th>\n",
       "      <td>None</td>\n",
       "      <td>289.58</td>\n",
       "      <td>0.0</td>\n",
       "      <td>0.0</td>\n",
       "      <td>90</td>\n",
       "      <td>Clouds</td>\n",
       "      <td>overcast clouds</td>\n",
       "      <td>2012-10-02 11:00:00</td>\n",
       "      <td>4767</td>\n",
       "    </tr>\n",
       "    <tr>\n",
       "      <th>3</th>\n",
       "      <td>None</td>\n",
       "      <td>290.13</td>\n",
       "      <td>0.0</td>\n",
       "      <td>0.0</td>\n",
       "      <td>90</td>\n",
       "      <td>Clouds</td>\n",
       "      <td>overcast clouds</td>\n",
       "      <td>2012-10-02 12:00:00</td>\n",
       "      <td>5026</td>\n",
       "    </tr>\n",
       "    <tr>\n",
       "      <th>4</th>\n",
       "      <td>None</td>\n",
       "      <td>291.14</td>\n",
       "      <td>0.0</td>\n",
       "      <td>0.0</td>\n",
       "      <td>75</td>\n",
       "      <td>Clouds</td>\n",
       "      <td>broken clouds</td>\n",
       "      <td>2012-10-02 13:00:00</td>\n",
       "      <td>4918</td>\n",
       "    </tr>\n",
       "    <tr>\n",
       "      <th>5</th>\n",
       "      <td>None</td>\n",
       "      <td>291.72</td>\n",
       "      <td>0.0</td>\n",
       "      <td>0.0</td>\n",
       "      <td>1</td>\n",
       "      <td>Clear</td>\n",
       "      <td>sky is clear</td>\n",
       "      <td>2012-10-02 14:00:00</td>\n",
       "      <td>5181</td>\n",
       "    </tr>\n",
       "    <tr>\n",
       "      <th>6</th>\n",
       "      <td>None</td>\n",
       "      <td>293.17</td>\n",
       "      <td>0.0</td>\n",
       "      <td>0.0</td>\n",
       "      <td>1</td>\n",
       "      <td>Clear</td>\n",
       "      <td>sky is clear</td>\n",
       "      <td>2012-10-02 15:00:00</td>\n",
       "      <td>5584</td>\n",
       "    </tr>\n",
       "    <tr>\n",
       "      <th>7</th>\n",
       "      <td>None</td>\n",
       "      <td>293.86</td>\n",
       "      <td>0.0</td>\n",
       "      <td>0.0</td>\n",
       "      <td>1</td>\n",
       "      <td>Clear</td>\n",
       "      <td>sky is clear</td>\n",
       "      <td>2012-10-02 16:00:00</td>\n",
       "      <td>6015</td>\n",
       "    </tr>\n",
       "    <tr>\n",
       "      <th>8</th>\n",
       "      <td>None</td>\n",
       "      <td>294.14</td>\n",
       "      <td>0.0</td>\n",
       "      <td>0.0</td>\n",
       "      <td>20</td>\n",
       "      <td>Clouds</td>\n",
       "      <td>few clouds</td>\n",
       "      <td>2012-10-02 17:00:00</td>\n",
       "      <td>5791</td>\n",
       "    </tr>\n",
       "    <tr>\n",
       "      <th>9</th>\n",
       "      <td>None</td>\n",
       "      <td>293.10</td>\n",
       "      <td>0.0</td>\n",
       "      <td>0.0</td>\n",
       "      <td>20</td>\n",
       "      <td>Clouds</td>\n",
       "      <td>few clouds</td>\n",
       "      <td>2012-10-02 18:00:00</td>\n",
       "      <td>4770</td>\n",
       "    </tr>\n",
       "  </tbody>\n",
       "</table>\n",
       "</div>"
      ],
      "text/plain": [
       "  holiday    temp  rain_1h  snow_1h  clouds_all weather_main  \\\n",
       "0    None  288.28      0.0      0.0          40       Clouds   \n",
       "1    None  289.36      0.0      0.0          75       Clouds   \n",
       "2    None  289.58      0.0      0.0          90       Clouds   \n",
       "3    None  290.13      0.0      0.0          90       Clouds   \n",
       "4    None  291.14      0.0      0.0          75       Clouds   \n",
       "5    None  291.72      0.0      0.0           1        Clear   \n",
       "6    None  293.17      0.0      0.0           1        Clear   \n",
       "7    None  293.86      0.0      0.0           1        Clear   \n",
       "8    None  294.14      0.0      0.0          20       Clouds   \n",
       "9    None  293.10      0.0      0.0          20       Clouds   \n",
       "\n",
       "  weather_description            date_time  traffic_volume  \n",
       "0    scattered clouds  2012-10-02 09:00:00            5545  \n",
       "1       broken clouds  2012-10-02 10:00:00            4516  \n",
       "2     overcast clouds  2012-10-02 11:00:00            4767  \n",
       "3     overcast clouds  2012-10-02 12:00:00            5026  \n",
       "4       broken clouds  2012-10-02 13:00:00            4918  \n",
       "5        sky is clear  2012-10-02 14:00:00            5181  \n",
       "6        sky is clear  2012-10-02 15:00:00            5584  \n",
       "7        sky is clear  2012-10-02 16:00:00            6015  \n",
       "8          few clouds  2012-10-02 17:00:00            5791  \n",
       "9          few clouds  2012-10-02 18:00:00            4770  "
      ]
     },
     "execution_count": 1,
     "metadata": {},
     "output_type": "execute_result"
    }
   ],
   "source": [
    "import numpy as np\n",
    "import pandas as pd\n",
    "import matplotlib.pyplot as plt\n",
    "%matplotlib inline\n",
    "\n",
    "traffic = pd.read_csv('C:/Users/fsi/Desktop/DATAQUEST/2. Intermediate Python and Pandas/2. Data Visualization Fundamentals/6. Guided Project Finding Heavy Traffic Indicators on I-94/Metro_Interstate_Traffic_Volume.csv')\n",
    "traffic.head(10)"
   ]
  },
  {
   "cell_type": "code",
   "execution_count": 2,
   "id": "ef8014bd",
   "metadata": {},
   "outputs": [
    {
     "name": "stdout",
     "output_type": "stream",
     "text": [
      "<class 'pandas.core.frame.DataFrame'>\n",
      "RangeIndex: 48204 entries, 0 to 48203\n",
      "Data columns (total 9 columns):\n",
      " #   Column               Non-Null Count  Dtype  \n",
      "---  ------               --------------  -----  \n",
      " 0   holiday              48204 non-null  object \n",
      " 1   temp                 48204 non-null  float64\n",
      " 2   rain_1h              48204 non-null  float64\n",
      " 3   snow_1h              48204 non-null  float64\n",
      " 4   clouds_all           48204 non-null  int64  \n",
      " 5   weather_main         48204 non-null  object \n",
      " 6   weather_description  48204 non-null  object \n",
      " 7   date_time            48204 non-null  object \n",
      " 8   traffic_volume       48204 non-null  int64  \n",
      "dtypes: float64(3), int64(2), object(4)\n",
      "memory usage: 2.6+ MB\n"
     ]
    }
   ],
   "source": [
    "traffic.info()"
   ]
  },
  {
   "cell_type": "markdown",
   "id": "fc5e2f63",
   "metadata": {},
   "source": [
    "The dataset has 48,204 rows and 9 columns. Each row describes traffic and weather data for a specific hour — we have data from 2012-10-02 09:00:00 until 2018-09-30 23:00:00."
   ]
  },
  {
   "cell_type": "markdown",
   "id": "c4795b91",
   "metadata": {},
   "source": [
    "## Analyzing Traffic Volume"
   ]
  },
  {
   "cell_type": "code",
   "execution_count": 3,
   "id": "ab91fec0",
   "metadata": {},
   "outputs": [
    {
     "data": {
      "text/plain": [
       "<AxesSubplot:ylabel='Frequency'>"
      ]
     },
     "execution_count": 3,
     "metadata": {},
     "output_type": "execute_result"
    },
    {
     "data": {
      "image/png": "[encoded data removed]",
      "text/plain": [
       "<Figure size 432x288 with 1 Axes>"
      ]
     },
     "metadata": {
      "needs_background": "light"
     },
     "output_type": "display_data"
    }
   ],
   "source": [
    "traffic['traffic_volume'].plot.hist()"
   ]
  },
  {
   "cell_type": "code",
   "execution_count": 4,
   "id": "87fc393d",
   "metadata": {},
   "outputs": [
    {
     "data": {
      "text/plain": [
       "count    48204.000000\n",
       "mean      3259.818355\n",
       "std       1986.860670\n",
       "min          0.000000\n",
       "25%       1193.000000\n",
       "50%       3380.000000\n",
       "75%       4933.000000\n",
       "max       7280.000000\n",
       "Name: traffic_volume, dtype: float64"
      ]
     },
     "execution_count": 4,
     "metadata": {},
     "output_type": "execute_result"
    }
   ],
   "source": [
    "traffic['traffic_volume'].describe()"
   ]
  },
  {
   "cell_type": "markdown",
   "id": "48245fa8",
   "metadata": {},
   "source": [
    "Based on observation of the histogram and the result of `.describe()` method we can conclude that 25% account for the night traffic (1193), rest & much bussiest volume occure during daytime. Further analysis of day/night relationship would shed light on the nuances of the traffic situation."
   ]
  },
  {
   "cell_type": "markdown",
   "id": "360eaf51",
   "metadata": {},
   "source": [
    "### Comparing daytime and nighttime data by dividing dataset into two parts using `datetime` library:\n",
    "***\n",
    "- *Daytime data: hours from 7 a.m. to 7 p.m. (12 hours)*\n",
    "- *Nighttime data: hours from 7 p.m. to 7 a.m. (12 hours)*"
   ]
  },
  {
   "cell_type": "code",
   "execution_count": 5,
   "id": "29c813e5",
   "metadata": {},
   "outputs": [
    {
     "data": {
      "text/plain": [
       "48199   2018-09-30 19:00:00\n",
       "48200   2018-09-30 20:00:00\n",
       "48201   2018-09-30 21:00:00\n",
       "48202   2018-09-30 22:00:00\n",
       "48203   2018-09-30 23:00:00\n",
       "Name: date_time, dtype: datetime64[ns]"
      ]
     },
     "execution_count": 5,
     "metadata": {},
     "output_type": "execute_result"
    }
   ],
   "source": [
    "import datetime as dt\n",
    "traffic['date_time'] = pd.to_datetime(traffic['date_time'])\n",
    "traffic['date_time'].tail()"
   ]
  },
  {
   "cell_type": "markdown",
   "id": "51460af0",
   "metadata": {},
   "source": [
    "### Isolation of day and night datasets"
   ]
  },
  {
   "cell_type": "code",
   "execution_count": 6,
   "id": "d8c71d65",
   "metadata": {},
   "outputs": [
    {
     "data": {
      "text/html": [
       "<div>\n",
       "<style scoped>\n",
       "    .dataframe tbody tr th:only-of-type {\n",
       "        vertical-align: middle;\n",
       "    }\n",
       "\n",
       "    .dataframe tbody tr th {\n",
       "        vertical-align: top;\n",
       "    }\n",
       "\n",
       "    .dataframe thead th {\n",
       "        text-align: right;\n",
       "    }\n",
       "</style>\n",
       "<table border=\"1\" class=\"dataframe\">\n",
       "  <thead>\n",
       "    <tr style=\"text-align: right;\">\n",
       "      <th></th>\n",
       "      <th>holiday</th>\n",
       "      <th>temp</th>\n",
       "      <th>rain_1h</th>\n",
       "      <th>snow_1h</th>\n",
       "      <th>clouds_all</th>\n",
       "      <th>weather_main</th>\n",
       "      <th>weather_description</th>\n",
       "      <th>date_time</th>\n",
       "      <th>traffic_volume</th>\n",
       "    </tr>\n",
       "  </thead>\n",
       "  <tbody>\n",
       "    <tr>\n",
       "      <th>10</th>\n",
       "      <td>None</td>\n",
       "      <td>290.97</td>\n",
       "      <td>0.0</td>\n",
       "      <td>0.0</td>\n",
       "      <td>20</td>\n",
       "      <td>Clouds</td>\n",
       "      <td>few clouds</td>\n",
       "      <td>2012-10-02 19:00:00</td>\n",
       "      <td>3539</td>\n",
       "    </tr>\n",
       "    <tr>\n",
       "      <th>11</th>\n",
       "      <td>None</td>\n",
       "      <td>289.38</td>\n",
       "      <td>0.0</td>\n",
       "      <td>0.0</td>\n",
       "      <td>1</td>\n",
       "      <td>Clear</td>\n",
       "      <td>sky is clear</td>\n",
       "      <td>2012-10-02 20:00:00</td>\n",
       "      <td>2784</td>\n",
       "    </tr>\n",
       "    <tr>\n",
       "      <th>12</th>\n",
       "      <td>None</td>\n",
       "      <td>288.61</td>\n",
       "      <td>0.0</td>\n",
       "      <td>0.0</td>\n",
       "      <td>1</td>\n",
       "      <td>Clear</td>\n",
       "      <td>sky is clear</td>\n",
       "      <td>2012-10-02 21:00:00</td>\n",
       "      <td>2361</td>\n",
       "    </tr>\n",
       "    <tr>\n",
       "      <th>13</th>\n",
       "      <td>None</td>\n",
       "      <td>287.16</td>\n",
       "      <td>0.0</td>\n",
       "      <td>0.0</td>\n",
       "      <td>1</td>\n",
       "      <td>Clear</td>\n",
       "      <td>sky is clear</td>\n",
       "      <td>2012-10-02 22:00:00</td>\n",
       "      <td>1529</td>\n",
       "    </tr>\n",
       "    <tr>\n",
       "      <th>14</th>\n",
       "      <td>None</td>\n",
       "      <td>285.45</td>\n",
       "      <td>0.0</td>\n",
       "      <td>0.0</td>\n",
       "      <td>1</td>\n",
       "      <td>Clear</td>\n",
       "      <td>sky is clear</td>\n",
       "      <td>2012-10-02 23:00:00</td>\n",
       "      <td>963</td>\n",
       "    </tr>\n",
       "  </tbody>\n",
       "</table>\n",
       "</div>"
      ],
      "text/plain": [
       "   holiday    temp  rain_1h  snow_1h  clouds_all weather_main  \\\n",
       "10    None  290.97      0.0      0.0          20       Clouds   \n",
       "11    None  289.38      0.0      0.0           1        Clear   \n",
       "12    None  288.61      0.0      0.0           1        Clear   \n",
       "13    None  287.16      0.0      0.0           1        Clear   \n",
       "14    None  285.45      0.0      0.0           1        Clear   \n",
       "\n",
       "   weather_description           date_time  traffic_volume  \n",
       "10          few clouds 2012-10-02 19:00:00            3539  \n",
       "11        sky is clear 2012-10-02 20:00:00            2784  \n",
       "12        sky is clear 2012-10-02 21:00:00            2361  \n",
       "13        sky is clear 2012-10-02 22:00:00            1529  \n",
       "14        sky is clear 2012-10-02 23:00:00             963  "
      ]
     },
     "execution_count": 6,
     "metadata": {},
     "output_type": "execute_result"
    }
   ],
   "source": [
    "daytime = traffic.copy()[(traffic['date_time'].dt.hour >= 7) & (traffic['date_time'].dt.hour <= 19)] #boolean indexing!\n",
    "nighttime = traffic.copy()[(traffic['date_time'].dt.hour >= 19) | (traffic['date_time'].dt.hour <= 7)] #boolean indexing!\n",
    "nighttime.head()"
   ]
  },
  {
   "cell_type": "markdown",
   "id": "fc66a2cc",
   "metadata": {},
   "source": [
    "### Placing two histograms on the gird chart"
   ]
  },
  {
   "cell_type": "code",
   "execution_count": 7,
   "id": "b57bee9c",
   "metadata": {},
   "outputs": [
    {
     "data": {
      "image/png": "[encoded data removed]",
      "text/plain": [
       "<Figure size 936x360 with 2 Axes>"
      ]
     },
     "metadata": {
      "needs_background": "light"
     },
     "output_type": "display_data"
    }
   ],
   "source": [
    "plt.figure(figsize=(13, 5))\n",
    "\n",
    "plt.subplot(1, 2, 1)\n",
    "plt.hist(daytime['traffic_volume'])\n",
    "plt.xlim(-100, 7500)\n",
    "plt.ylim(0, 8000)\n",
    "plt.title('Traffic Volume: Day')\n",
    "plt.ylabel('Frequency')\n",
    "plt.xlabel('Traffic Volume')\n",
    "\n",
    "plt.subplot(1, 2, 2)\n",
    "plt.hist(nighttime['traffic_volume'])\n",
    "plt.xlim(-100, 7500)\n",
    "plt.ylim(0, 8000)\n",
    "plt.title('Traffic Volume: Night')\n",
    "plt.ylabel('Frequency')\n",
    "plt.xlabel('Traffic Volume')\n",
    "\n",
    "plt.show()"
   ]
  },
  {
   "cell_type": "code",
   "execution_count": 8,
   "id": "7c2d8310",
   "metadata": {},
   "outputs": [
    {
     "data": {
      "text/plain": [
       "count    25838.000000\n",
       "mean      4649.292360\n",
       "std       1202.321987\n",
       "min          0.000000\n",
       "25%       4021.000000\n",
       "50%       4736.000000\n",
       "75%       5458.000000\n",
       "max       7280.000000\n",
       "Name: traffic_volume, dtype: float64"
      ]
     },
     "execution_count": 8,
     "metadata": {},
     "output_type": "execute_result"
    }
   ],
   "source": [
    "daytime['traffic_volume'].describe()"
   ]
  },
  {
   "cell_type": "code",
   "execution_count": 9,
   "id": "025a1de3",
   "metadata": {},
   "outputs": [
    {
     "data": {
      "text/plain": [
       "count    26406.000000\n",
       "mean      2018.015375\n",
       "std       1713.201969\n",
       "min          0.000000\n",
       "25%        581.000000\n",
       "50%       1485.000000\n",
       "75%       2934.000000\n",
       "max       7260.000000\n",
       "Name: traffic_volume, dtype: float64"
      ]
     },
     "execution_count": 9,
     "metadata": {},
     "output_type": "execute_result"
    }
   ],
   "source": [
    "nighttime['traffic_volume'].describe()"
   ]
  },
  {
   "cell_type": "markdown",
   "id": "b2e85a79",
   "metadata": {},
   "source": [
    "***Comparison results:***\n",
    "\n",
    "The histogram that shows the distribution of traffic volume during the day is left skewed. This means that most of the traffic volume values are high — there are `4021` or more cars passing the station each hour 75% of the time (because 25% of values are less than `4021`).\n",
    "\n",
    "The histogram displaying the nighttime data is right skewed. This means that most of the traffic volume values are low — 75% of the time, the number of cars that passed the station each hour was less than `2934`.\n",
    "\n",
    "Although there are still measurements of over 5,000 cars per hour, the traffic at night is generally light. Our goal is to find indicators of heavy traffic, so we'll only focus on the daytime data."
   ]
  },
  {
   "cell_type": "markdown",
   "id": "c54ba19d",
   "metadata": {},
   "source": [
    "### Getting the average traffic volume for each `month`"
   ]
  },
  {
   "cell_type": "code",
   "execution_count": 10,
   "id": "f8fc663c",
   "metadata": {},
   "outputs": [
    {
     "data": {
      "text/plain": [
       "month\n",
       "1     4385.217310\n",
       "2     4593.187798\n",
       "3     4761.529676\n",
       "4     4771.232816\n",
       "5     4788.966639\n",
       "6     4791.087488\n",
       "7     4502.628360\n",
       "8     4818.434690\n",
       "9     4755.709916\n",
       "10    4809.481678\n",
       "11    4588.910486\n",
       "12    4276.567081\n",
       "Name: traffic_volume, dtype: float64"
      ]
     },
     "execution_count": 10,
     "metadata": {},
     "output_type": "execute_result"
    }
   ],
   "source": [
    "# to crate a new column where each value describes the month when the traffic volume measurment was taken\n",
    "daytime['month'] = daytime['date_time'].dt.month\n",
    "\n",
    "# to group the dataset by the month column with the mean as an aggregate function\n",
    "by_month = daytime.groupby('month').mean()\n",
    "\n",
    "by_month['traffic_volume']"
   ]
  },
  {
   "cell_type": "code",
   "execution_count": 11,
   "id": "edf6dcb2",
   "metadata": {},
   "outputs": [
    {
     "data": {
      "image/png": "[encoded data removed]",
      "text/plain": [
       "<Figure size 432x288 with 1 Axes>"
      ]
     },
     "metadata": {
      "needs_background": "light"
     },
     "output_type": "display_data"
    }
   ],
   "source": [
    "plt.plot(by_month['traffic_volume'])\n",
    "plt.xticks(np.arange(0, 13, 1))\n",
    "plt.show()"
   ]
  },
  {
   "cell_type": "markdown",
   "id": "5cf2295a",
   "metadata": {},
   "source": [
    "The traffic looks less heavy during November – February period and more intense during March – October period, with the exception of July due to road construction in 2016, what was reflected in the dataset."
   ]
  },
  {
   "cell_type": "markdown",
   "id": "97afc582",
   "metadata": {},
   "source": [
    "### Getting the average traffic volume for each `day of the week`"
   ]
  },
  {
   "cell_type": "code",
   "execution_count": 12,
   "id": "79c5ff59",
   "metadata": {},
   "outputs": [
    {
     "data": {
      "text/plain": [
       "dayofweek\n",
       "0    4746.208029\n",
       "1    5036.062431\n",
       "2    5141.231163\n",
       "3    5163.688063\n",
       "4    5161.533588\n",
       "5    3884.065668\n",
       "6    3410.368091\n",
       "Name: traffic_volume, dtype: float64"
      ]
     },
     "execution_count": 12,
     "metadata": {},
     "output_type": "execute_result"
    }
   ],
   "source": [
    "# to crate a new column where each value describes the day of the week when the traffic volume measurment was taken\n",
    "daytime['dayofweek'] = daytime['date_time'].dt.dayofweek\n",
    "\n",
    "# to group the dataset by the day of the week column with the mean as an aggregate function\n",
    "by_dayofweek = daytime.groupby('dayofweek').mean()\n",
    "\n",
    "by_dayofweek['traffic_volume']"
   ]
  },
  {
   "cell_type": "code",
   "execution_count": 13,
   "id": "9bd45e5f",
   "metadata": {},
   "outputs": [
    {
     "data": {
      "image/png": "[encoded data removed]",
      "text/plain": [
       "<Figure size 432x288 with 1 Axes>"
      ]
     },
     "metadata": {
      "needs_background": "light"
     },
     "output_type": "display_data"
    }
   ],
   "source": [
    "plt.plot(by_dayofweek['traffic_volume'])\n",
    "plt.xticks(np.arange(0, 7, 1))\n",
    "plt.show()"
   ]
  },
  {
   "cell_type": "markdown",
   "id": "21c5a6e3",
   "metadata": {},
   "source": [
    "Traffic volume is significantly heavier on business days with values over 5,000 during business days (exception: Monday). Traffic is lighter on weekends, with values below 4,000 cars."
   ]
  },
  {
   "cell_type": "markdown",
   "id": "304cfaff",
   "metadata": {},
   "source": [
    "### Getting the average traffic volume for each `hour` with separation of business days & weekends"
   ]
  },
  {
   "cell_type": "code",
   "execution_count": 14,
   "id": "b5af34ff",
   "metadata": {},
   "outputs": [
    {
     "name": "stdout",
     "output_type": "stream",
     "text": [
      "hour\n",
      "7     6030.413559\n",
      "8     5503.497970\n",
      "9     4895.269257\n",
      "10    4378.419118\n",
      "11    4633.419470\n",
      "12    4855.382143\n",
      "13    4859.180473\n",
      "14    5152.995778\n",
      "15    5592.897768\n",
      "16    6189.473647\n",
      "17    5784.827133\n",
      "18    4434.209431\n",
      "19    3298.340426\n",
      "Name: traffic_volume, dtype: float64\n",
      "hour\n",
      "7     1589.365894\n",
      "8     2338.578073\n",
      "9     3111.623917\n",
      "10    3686.632302\n",
      "11    4044.154955\n",
      "12    4372.482883\n",
      "13    4362.296564\n",
      "14    4358.543796\n",
      "15    4342.456881\n",
      "16    4339.693805\n",
      "17    4151.919929\n",
      "18    3811.792279\n",
      "19    3220.234120\n",
      "Name: traffic_volume, dtype: float64\n"
     ]
    }
   ],
   "source": [
    "daytime['hour'] = daytime['date_time'].dt.hour\n",
    "business_day = daytime.copy()[daytime['dayofweek'] <= 4] # boolean indexing till Friday (4==Friday)\n",
    "weekend = daytime.copy()[daytime['dayofweek'] >= 5] # boolean indexing from Saturday till Monday (5==Saturday)\n",
    "by_hour_business = business_day.groupby('hour').mean()\n",
    "by_hour_weekend = weekend.groupby('hour').mean()\n",
    "print(by_hour_business['traffic_volume'])\n",
    "print(by_hour_weekend['traffic_volume'])"
   ]
  },
  {
   "cell_type": "code",
   "execution_count": 15,
   "id": "066c7624",
   "metadata": {},
   "outputs": [
    {
     "data": {
      "image/png": "[encoded data removed]",
      "text/plain": [
       "<Figure size 936x360 with 2 Axes>"
      ]
     },
     "metadata": {
      "needs_background": "light"
     },
     "output_type": "display_data"
    }
   ],
   "source": [
    "plt.figure(figsize=(13,5))\n",
    "\n",
    "plt.subplot(1,2,1)\n",
    "plt.plot(by_hour_business['traffic_volume'])\n",
    "plt.title('Change by time of the business day')\n",
    "plt.xlabel('Hours')\n",
    "plt.ylabel('Traffic volume')\n",
    "plt.xticks(np.arange(6, 20, 1))\n",
    "plt.yticks(np.arange(500, 7000, 500))\n",
    "plt.xlim(7, 19)\n",
    "plt.ylim(500, 7000)\n",
    "\n",
    "\n",
    "plt.subplot(1,2,2)\n",
    "plt.plot(by_hour_weekend['traffic_volume'])\n",
    "plt.title('Change by time of the weekend day')\n",
    "plt.xlabel('Hours')\n",
    "plt.ylabel('Traffic volume')\n",
    "plt.xticks(np.arange(6, 20, 1))\n",
    "plt.yticks(np.arange(500, 7000, 500))\n",
    "plt.xlim(7, 19)\n",
    "plt.ylim(500, 7000)\n",
    "\n",
    "plt.show()\n"
   ]
  },
  {
   "cell_type": "markdown",
   "id": "70f7b645",
   "metadata": {},
   "source": [
    "At each hour of the day, the traffic volume is generally higher during business days compared to the weekends.\n",
    "\n",
    "On the bussiness day the worst traffic situation is during the time people going to/from work: around 7:00 & 16:00.\n",
    "\n",
    "On the weekends the worst traffic situation is during the period: 12:00 till 16:00."
   ]
  },
  {
   "cell_type": "markdown",
   "id": "69aafe5f",
   "metadata": {},
   "source": [
    "### Finding the correlation values between `traffic_volume` and the numerical weather columns"
   ]
  },
  {
   "cell_type": "code",
   "execution_count": 16,
   "id": "94b1928b",
   "metadata": {},
   "outputs": [
    {
     "name": "stdout",
     "output_type": "stream",
     "text": [
      "<class 'pandas.core.frame.DataFrame'>\n",
      "Int64Index: 25838 entries, 0 to 48199\n",
      "Data columns (total 12 columns):\n",
      " #   Column               Non-Null Count  Dtype         \n",
      "---  ------               --------------  -----         \n",
      " 0   holiday              25838 non-null  object        \n",
      " 1   temp                 25838 non-null  float64       \n",
      " 2   rain_1h              25838 non-null  float64       \n",
      " 3   snow_1h              25838 non-null  float64       \n",
      " 4   clouds_all           25838 non-null  int64         \n",
      " 5   weather_main         25838 non-null  object        \n",
      " 6   weather_description  25838 non-null  object        \n",
      " 7   date_time            25838 non-null  datetime64[ns]\n",
      " 8   traffic_volume       25838 non-null  int64         \n",
      " 9   month                25838 non-null  int64         \n",
      " 10  dayofweek            25838 non-null  int64         \n",
      " 11  hour                 25838 non-null  int64         \n",
      "dtypes: datetime64[ns](1), float64(3), int64(5), object(3)\n",
      "memory usage: 2.3+ MB\n"
     ]
    }
   ],
   "source": [
    "daytime.info()"
   ]
  },
  {
   "cell_type": "code",
   "execution_count": 17,
   "id": "00e43af3",
   "metadata": {},
   "outputs": [
    {
     "name": "stdout",
     "output_type": "stream",
     "text": [
      "0.11808381454022035\n",
      "0.0040203285532569135\n",
      "0.0037684656522925263\n",
      "-0.03340950373199396\n"
     ]
    }
   ],
   "source": [
    "print(daytime['traffic_volume'].corr(daytime['temp']))\n",
    "print(daytime['traffic_volume'].corr(daytime['rain_1h']))\n",
    "print(daytime['traffic_volume'].corr(daytime['snow_1h']))\n",
    "print(daytime['traffic_volume'].corr(daytime['clouds_all']))"
   ]
  },
  {
   "cell_type": "code",
   "execution_count": 18,
   "id": "a0d84fe9",
   "metadata": {},
   "outputs": [
    {
     "data": {
      "text/plain": [
       "temp              0.118084\n",
       "rain_1h           0.004020\n",
       "snow_1h           0.003768\n",
       "clouds_all       -0.033410\n",
       "traffic_volume    1.000000\n",
       "month            -0.017397\n",
       "dayofweek        -0.371023\n",
       "hour             -0.007369\n",
       "Name: traffic_volume, dtype: float64"
      ]
     },
     "execution_count": 18,
     "metadata": {},
     "output_type": "execute_result"
    }
   ],
   "source": [
    "daytime.corr()['traffic_volume'] #all correlations of dataframe"
   ]
  },
  {
   "cell_type": "markdown",
   "id": "e8860560",
   "metadata": {},
   "source": [
    "Temperature shows the strongest correlation with a value of just +0.12."
   ]
  },
  {
   "cell_type": "code",
   "execution_count": 19,
   "id": "7eacefea",
   "metadata": {},
   "outputs": [
    {
     "data": {
      "image/png": "[encoded data removed]",
      "text/plain": [
       "<Figure size 432x288 with 1 Axes>"
      ]
     },
     "metadata": {
      "needs_background": "light"
     },
     "output_type": "display_data"
    }
   ],
   "source": [
    "plt.scatter(daytime['traffic_volume'], daytime['temp'])\n",
    "plt.ylim(230, 320)\n",
    "plt.show()"
   ]
  },
  {
   "cell_type": "markdown",
   "id": "eff2ac58",
   "metadata": {},
   "source": [
    "We can conclude that temperature doesn't look like a solid indicator of heavy traffic."
   ]
  },
  {
   "cell_type": "markdown",
   "id": "9039437d",
   "metadata": {},
   "source": [
    "### Analysis of weather types"
   ]
  },
  {
   "cell_type": "markdown",
   "id": "a7e3a56c",
   "metadata": {},
   "source": [
    "*Calculation of the average traffic volume associated with each unique value in columns `weather_main `&` weather_description` by grouping the data in the columns by usimg the `mean()` as an aggregate function.*"
   ]
  },
  {
   "cell_type": "code",
   "execution_count": 20,
   "id": "4a33e712",
   "metadata": {},
   "outputs": [
    {
     "name": "stdout",
     "output_type": "stream",
     "text": [
      "\n",
      "\n"
     ]
    }
   ],
   "source": [
    "by_weather_main = daytime.groupby('weather_main').mean()\n",
    "by_weather_description = daytime.groupby('weather_description').mean()\n",
    "\n",
    "#print(by_weather_main['traffic_volume'].round(2))\n",
    "print('\\n')\n",
    "#print(by_weather_description['traffic_volume'].round(2))"
   ]
  },
  {
   "cell_type": "code",
   "execution_count": 24,
   "id": "3e42de8d",
   "metadata": {},
   "outputs": [
    {
     "data": {
      "text/plain": [
       "weather_main\n",
       "Clear           4661.666879\n",
       "Clouds          4746.375927\n",
       "Drizzle         4712.699060\n",
       "Fog             4298.933511\n",
       "Haze            4545.434932\n",
       "Mist            4530.901782\n",
       "Rain            4686.953503\n",
       "Smoke           4447.307692\n",
       "Snow            4295.594612\n",
       "Squall          4211.000000\n",
       "Thunderstorm    4512.479042\n",
       "Name: traffic_volume, dtype: float64"
      ]
     },
     "execution_count": 24,
     "metadata": {},
     "output_type": "execute_result"
    }
   ],
   "source": [
    "by_weather_main['traffic_volume']"
   ]
  },
  {
   "cell_type": "code",
   "execution_count": 22,
   "id": "38139aa6",
   "metadata": {},
   "outputs": [
    {
     "data": {
      "image/png": "[encoded data removed]",
      "text/plain": [
       "<Figure size 432x288 with 1 Axes>"
      ]
     },
     "metadata": {
      "needs_background": "light"
     },
     "output_type": "display_data"
    }
   ],
   "source": [
    "by_weather_main['traffic_volume'].plot.barh()\n",
    "plt.xticks(np.arange(0, 5500, 500))\n",
    "plt.xlim(0, 5500)\n",
    "plt.show()"
   ]
  },
  {
   "cell_type": "markdown",
   "id": "8f0776a4",
   "metadata": {},
   "source": [
    "At this ponit there is no traffic volume exceeding 5000 cars. Considering this classification of weather types is inconclusive. Next, we will try to consider `weather_description`."
   ]
  },
  {
   "cell_type": "code",
   "execution_count": 23,
   "id": "95d796c7",
   "metadata": {},
   "outputs": [
    {
     "data": {
      "image/png": "[encoded data removed]",
      "text/plain": [
       "<Figure size 504x504 with 1 Axes>"
      ]
     },
     "metadata": {
      "needs_background": "light"
     },
     "output_type": "display_data"
    }
   ],
   "source": [
    "by_weather_description['traffic_volume'].plot.barh(figsize=(7, 7))\n",
    "plt.show()"
   ]
  },
  {
   "cell_type": "markdown",
   "id": "a63879b4",
   "metadata": {},
   "source": [
    "There are several heavy traffic indicators with traffic volume exceeding 5000 cars: light rain & snow, etc."
   ]
  },
  {
   "cell_type": "markdown",
   "id": "8525e40b",
   "metadata": {},
   "source": [
    "### Conclusion\n",
    "***Time indicators:***\n",
    "***\n",
    ">* The traffic is usually heavier during March–October period compared to cold months.\n",
    ">* The traffic is usually heavier on business days compared to the weekends.\n",
    ">* On business days, the rush hours are around 7 & 16.\n",
    "\n",
    "***Weather indicators:***\n",
    "***\n",
    ">* Shower snow\n",
    ">* Light rain and snow\n",
    ">* Proximity thunderstorm with drizzle"
   ]
  }
 ],
 "metadata": {
  "kernelspec": {
   "display_name": "Python 3 (ipykernel)",
   "language": "python",
   "name": "python3"
  },
  "language_info": {
   "codemirror_mode": {
    "name": "ipython",
    "version": 3
   },
   "file_extension": ".py",
   "mimetype": "text/x-python",
   "name": "python",
   "nbconvert_exporter": "python",
   "pygments_lexer": "ipython3",
   "version": "3.8.5"
  }
 },
 "nbformat": 4,
 "nbformat_minor": 5
}
